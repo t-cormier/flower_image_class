{
 "cells": [
  {
   "cell_type": "markdown",
   "metadata": {},
   "source": [
    "## Libraries"
   ]
  },
  {
   "cell_type": "code",
   "execution_count": 1,
   "metadata": {},
   "outputs": [],
   "source": [
    "import matplotlib.pyplot as plt\n",
    "import numpy as np\n",
    "import os\n",
    "import PIL\n",
    "import tensorflow as tf\n",
    "import pathlib\n",
    "\n",
    "# Tensorflow libraries\n",
    "from tensorflow import keras\n",
    "from tensorflow.keras import layers\n",
    "from tensorflow.keras.models import Sequential\n",
    "\n",
    "#matplotlib style\n",
    "plt.rcParams['axes.spines.right'] = False\n",
    "plt.rcParams['axes.spines.top'] = False\n",
    "plt.rcParams['legend.frameon'] = False\n",
    "\n",
    "# Project package\n",
    "from src.plot_functions import plot_acc_loss\n",
    "from src.training_functions import exp_decay, train_lrscheduler\n",
    "from src.init_data import create_train_val_data_from_directory"
   ]
  },
  {
   "cell_type": "markdown",
   "metadata": {},
   "source": [
    "## Create binary classif dataset"
   ]
  },
  {
   "cell_type": "code",
   "execution_count": 2,
   "metadata": {},
   "outputs": [
    {
     "name": "stdout",
     "output_type": "stream",
     "text": [
      "Found 1274 files belonging to 2 classes.\n",
      "Using 1020 files for training.\n",
      "Found 1274 files belonging to 2 classes.\n",
      "Using 254 files for validation.\n",
      "['daisy', 'roses']\n"
     ]
    },
    {
     "name": "stderr",
     "output_type": "stream",
     "text": [
      "2022-07-21 13:01:02.608686: I tensorflow/stream_executor/cuda/cuda_gpu_executor.cc:975] successful NUMA node read from SysFS had negative value (-1), but there must be at least one NUMA node, so returning NUMA node zero\n",
      "2022-07-21 13:01:02.612116: I tensorflow/stream_executor/cuda/cuda_gpu_executor.cc:975] successful NUMA node read from SysFS had negative value (-1), but there must be at least one NUMA node, so returning NUMA node zero\n",
      "2022-07-21 13:01:02.612290: I tensorflow/stream_executor/cuda/cuda_gpu_executor.cc:975] successful NUMA node read from SysFS had negative value (-1), but there must be at least one NUMA node, so returning NUMA node zero\n",
      "2022-07-21 13:01:02.612610: I tensorflow/core/platform/cpu_feature_guard.cc:193] This TensorFlow binary is optimized with oneAPI Deep Neural Network Library (oneDNN) to use the following CPU instructions in performance-critical operations:  AVX2 FMA\n",
      "To enable them in other operations, rebuild TensorFlow with the appropriate compiler flags.\n",
      "2022-07-21 13:01:02.613145: I tensorflow/stream_executor/cuda/cuda_gpu_executor.cc:975] successful NUMA node read from SysFS had negative value (-1), but there must be at least one NUMA node, so returning NUMA node zero\n",
      "2022-07-21 13:01:02.613252: I tensorflow/stream_executor/cuda/cuda_gpu_executor.cc:975] successful NUMA node read from SysFS had negative value (-1), but there must be at least one NUMA node, so returning NUMA node zero\n",
      "2022-07-21 13:01:02.613343: I tensorflow/stream_executor/cuda/cuda_gpu_executor.cc:975] successful NUMA node read from SysFS had negative value (-1), but there must be at least one NUMA node, so returning NUMA node zero\n",
      "2022-07-21 13:01:03.044385: I tensorflow/stream_executor/cuda/cuda_gpu_executor.cc:975] successful NUMA node read from SysFS had negative value (-1), but there must be at least one NUMA node, so returning NUMA node zero\n",
      "2022-07-21 13:01:03.044523: I tensorflow/stream_executor/cuda/cuda_gpu_executor.cc:975] successful NUMA node read from SysFS had negative value (-1), but there must be at least one NUMA node, so returning NUMA node zero\n",
      "2022-07-21 13:01:03.044619: I tensorflow/stream_executor/cuda/cuda_gpu_executor.cc:975] successful NUMA node read from SysFS had negative value (-1), but there must be at least one NUMA node, so returning NUMA node zero\n",
      "2022-07-21 13:01:03.044706: I tensorflow/core/common_runtime/gpu/gpu_device.cc:1532] Created device /job:localhost/replica:0/task:0/device:GPU:0 with 5749 MB memory:  -> device: 0, name: NVIDIA GeForce RTX 3070 Laptop GPU, pci bus id: 0000:01:00.0, compute capability: 8.6\n"
     ]
    }
   ],
   "source": [
    "# create datasets\n",
    "\n",
    "data_dir_bin = \"/home/titou/Documents/git/flower_image_class/data/flower_photos_binary/\"\n",
    "data_dir_bin = pathlib.Path(data_dir_bin)\n",
    "\n",
    "\n",
    "# parameters\n",
    "batch_size = 32\n",
    "img_height = 180\n",
    "img_width = 180\n",
    "\n",
    "train_ds_bin, validation_ds_bin = create_train_val_data_from_directory(data_dir_bin)\n",
    "\n",
    "class_names_bin = train_ds_bin.class_names\n",
    "num_classes_bin = len(class_names_bin)\n",
    "print(class_names_bin)\n",
    "\n",
    "#Preformance improvement for the IO part of the training\n",
    "\n",
    "AUTOTUNE = tf.data.AUTOTUNE\n",
    "\n",
    "train_ds_bin = train_ds_bin.cache().shuffle(1000, seed=123).prefetch(buffer_size=AUTOTUNE)\n",
    "validation_ds_bin = validation_ds_bin.cache().prefetch(buffer_size=AUTOTUNE)\n"
   ]
  },
  {
   "cell_type": "markdown",
   "metadata": {},
   "source": [
    "## Fine tune Resnet for binary classification"
   ]
  },
  {
   "cell_type": "code",
   "execution_count": 3,
   "metadata": {},
   "outputs": [
    {
     "name": "stdout",
     "output_type": "stream",
     "text": [
      "WARNING:tensorflow:No training configuration found in the save file, so the model was *not* compiled. Compile it manually.\n"
     ]
    }
   ],
   "source": [
    "resnet50 = tf.keras.models.load_model('../data/pretrained_models/resnet50_nopooling.h5')\n",
    "resnet50.trainable=False"
   ]
  },
  {
   "cell_type": "code",
   "execution_count": 4,
   "metadata": {},
   "outputs": [],
   "source": [
    "# Create the new model\n",
    "\n",
    "def create_resnet(num_classes):\n",
    "\n",
    "    model = Sequential([\n",
    "\n",
    "        layers.Resizing(img_height, img_width),\n",
    "        layers.Rescaling(1./255),\n",
    "        # Data augmentation\n",
    "        #layers.RandomFlip(\"horizontal\", seed=123),\n",
    "        #layers.RandomRotation(0.05, seed=123),\n",
    "        #layers.GaussianNoise(0.1, seed=123),\n",
    "\n",
    "        resnet50,\n",
    "        layers.MaxPool2D(),\n",
    "        layers.Flatten(),\n",
    "        layers.Dropout(0.2, seed=123),\n",
    "        layers.Dense(128, activation='relu'),\n",
    "        layers.Dense(num_classes)\n",
    "    ])\n",
    "\n",
    "\n",
    "    opt=tf.keras.optimizers.Adam(learning_rate=1e-3)\n",
    "\n",
    "    model.compile(\n",
    "        optimizer=opt,\n",
    "        loss=tf.keras.losses.SparseCategoricalCrossentropy(from_logits=True),\n",
    "        metrics=['accuracy']\n",
    "    )\n",
    "\n",
    "    return model\n",
    "\n",
    "  "
   ]
  },
  {
   "cell_type": "code",
   "execution_count": 5,
   "metadata": {},
   "outputs": [
    {
     "name": "stdout",
     "output_type": "stream",
     "text": [
      "Epoch 1/10\n"
     ]
    },
    {
     "name": "stderr",
     "output_type": "stream",
     "text": [
      "2022-07-21 13:01:13.491409: I tensorflow/stream_executor/cuda/cuda_dnn.cc:384] Loaded cuDNN version 8100\n",
      "2022-07-21 13:01:14.026936: I tensorflow/core/platform/default/subprocess.cc:304] Start cannot spawn child process: No such file or directory\n",
      "2022-07-21 13:01:14.027294: I tensorflow/core/platform/default/subprocess.cc:304] Start cannot spawn child process: No such file or directory\n",
      "2022-07-21 13:01:14.027314: W tensorflow/stream_executor/gpu/asm_compiler.cc:80] Couldn't get ptxas version string: INTERNAL: Couldn't invoke ptxas --version\n",
      "2022-07-21 13:01:14.027676: I tensorflow/core/platform/default/subprocess.cc:304] Start cannot spawn child process: No such file or directory\n",
      "2022-07-21 13:01:14.027719: W tensorflow/stream_executor/gpu/redzone_allocator.cc:314] INTERNAL: Failed to launch ptxas\n",
      "Relying on driver to perform ptx compilation. \n",
      "Modify $PATH to customize ptxas location.\n",
      "This message will be only logged once.\n"
     ]
    },
    {
     "name": "stdout",
     "output_type": "stream",
     "text": [
      " 4/32 [==>...........................] - ETA: 1s - loss: 3.4228 - accuracy: 0.7188"
     ]
    },
    {
     "name": "stderr",
     "output_type": "stream",
     "text": [
      "2022-07-21 13:01:15.225266: I tensorflow/stream_executor/cuda/cuda_blas.cc:1786] TensorFloat-32 will be used for the matrix multiplication. This will only be logged once.\n"
     ]
    },
    {
     "name": "stdout",
     "output_type": "stream",
     "text": [
      "32/32 [==============================] - 8s 127ms/step - loss: 0.8438 - accuracy: 0.8961 - val_loss: 0.1341 - val_accuracy: 0.9528 - lr: 0.0010\n",
      "Epoch 2/10\n",
      "32/32 [==============================] - 2s 67ms/step - loss: 0.0516 - accuracy: 0.9775 - val_loss: 0.1647 - val_accuracy: 0.9409 - lr: 0.0010\n",
      "Epoch 3/10\n",
      "32/32 [==============================] - 2s 66ms/step - loss: 0.0154 - accuracy: 0.9961 - val_loss: 0.1955 - val_accuracy: 0.9567 - lr: 0.0010\n",
      "Epoch 4/10\n",
      "32/32 [==============================] - 2s 71ms/step - loss: 0.0026 - accuracy: 1.0000 - val_loss: 0.2180 - val_accuracy: 0.9528 - lr: 0.0010\n",
      "Epoch 5/10\n",
      "32/32 [==============================] - 2s 67ms/step - loss: 0.0020 - accuracy: 1.0000 - val_loss: 0.2244 - val_accuracy: 0.9488 - lr: 0.0010\n",
      "Epoch 6/10\n",
      "32/32 [==============================] - 2s 67ms/step - loss: 5.3841e-04 - accuracy: 1.0000 - val_loss: 0.2258 - val_accuracy: 0.9528 - lr: 0.0010\n",
      "Epoch 7/10\n",
      "32/32 [==============================] - 2s 67ms/step - loss: 2.4843e-04 - accuracy: 1.0000 - val_loss: 0.2189 - val_accuracy: 0.9606 - lr: 0.0010\n",
      "Epoch 8/10\n",
      "32/32 [==============================] - 2s 66ms/step - loss: 1.9219e-04 - accuracy: 1.0000 - val_loss: 0.2202 - val_accuracy: 0.9567 - lr: 0.0010\n",
      "Epoch 9/10\n",
      "32/32 [==============================] - 2s 67ms/step - loss: 2.2061e-04 - accuracy: 1.0000 - val_loss: 0.2233 - val_accuracy: 0.9606 - lr: 0.0010\n",
      "Epoch 10/10\n",
      "32/32 [==============================] - 2s 68ms/step - loss: 2.3124e-04 - accuracy: 1.0000 - val_loss: 0.2235 - val_accuracy: 0.9567 - lr: 0.0010\n"
     ]
    },
    {
     "data": {
      "image/png": "[encoded data removed]",
      "text/plain": [
       "<Figure size 864x432 with 2 Axes>"
      ]
     },
     "metadata": {
      "needs_background": "light"
     },
     "output_type": "display_data"
    }
   ],
   "source": [
    "resnet = create_resnet(num_classes_bin)\n",
    "epochs = 10\n",
    "resnet_history = train_lrscheduler(resnet, epochs, train_ds_bin, validation_ds_bin, exp_decay)\n",
    "plot_acc_loss(resnet_history, epochs)\n",
    "\n"
   ]
  },
  {
   "cell_type": "code",
   "execution_count": null,
   "metadata": {},
   "outputs": [],
   "source": []
  }
 ],
 "metadata": {
  "interpreter": {
   "hash": "7736d602cf46993e5c2a27a57ee1b08f7d6a9a00ed0d431426ac4d66f758681b"
  },
  "kernelspec": {
   "display_name": "Python 3.9.12 ('flower')",
   "language": "python",
   "name": "python3"
  },
  "language_info": {
   "codemirror_mode": {
    "name": "ipython",
    "version": 3
   },
   "file_extension": ".py",
   "mimetype": "text/x-python",
   "name": "python",
   "nbconvert_exporter": "python",
   "pygments_lexer": "ipython3",
   "version": "3.9.12"
  },
  "orig_nbformat": 4
 },
 "nbformat": 4,
 "nbformat_minor": 2
}

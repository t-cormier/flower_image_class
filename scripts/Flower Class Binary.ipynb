{
 "cells": [
  {
   "cell_type": "markdown",
   "metadata": {},
   "source": [
    "## Libraries"
   ]
  },
  {
   "cell_type": "code",
   "execution_count": 1,
   "metadata": {},
   "outputs": [],
   "source": [
    "import matplotlib.pyplot as plt\n",
    "import numpy as np\n",
    "import os\n",
    "import PIL\n",
    "import tensorflow as tf\n",
    "import pathlib\n",
    "\n",
    "# Tensorflow libraries\n",
    "from tensorflow import keras\n",
    "from tensorflow.keras import layers\n",
    "from tensorflow.keras.models import Sequential\n",
    "\n",
    "#matplotlib style\n",
    "plt.rcParams['axes.spines.right'] = False\n",
    "plt.rcParams['axes.spines.top'] = False\n",
    "plt.rcParams['legend.frameon'] = False\n"
   ]
  },
  {
   "cell_type": "markdown",
   "metadata": {},
   "source": [
    "## Create binary classif dataset"
   ]
  },
  {
   "cell_type": "code",
   "execution_count": 2,
   "metadata": {},
   "outputs": [
    {
     "name": "stdout",
     "output_type": "stream",
     "text": [
      "Found 1274 files belonging to 2 classes.\n",
      "Using 1020 files for training.\n",
      "Found 1274 files belonging to 2 classes.\n",
      "Using 254 files for validation.\n",
      "['daisy', 'roses']\n"
     ]
    },
    {
     "name": "stderr",
     "output_type": "stream",
     "text": [
      "2022-07-21 11:39:03.994956: I tensorflow/stream_executor/cuda/cuda_gpu_executor.cc:975] successful NUMA node read from SysFS had negative value (-1), but there must be at least one NUMA node, so returning NUMA node zero\n",
      "2022-07-21 11:39:03.998489: I tensorflow/stream_executor/cuda/cuda_gpu_executor.cc:975] successful NUMA node read from SysFS had negative value (-1), but there must be at least one NUMA node, so returning NUMA node zero\n",
      "2022-07-21 11:39:03.998634: I tensorflow/stream_executor/cuda/cuda_gpu_executor.cc:975] successful NUMA node read from SysFS had negative value (-1), but there must be at least one NUMA node, so returning NUMA node zero\n",
      "2022-07-21 11:39:03.998983: I tensorflow/core/platform/cpu_feature_guard.cc:193] This TensorFlow binary is optimized with oneAPI Deep Neural Network Library (oneDNN) to use the following CPU instructions in performance-critical operations:  AVX2 FMA\n",
      "To enable them in other operations, rebuild TensorFlow with the appropriate compiler flags.\n",
      "2022-07-21 11:39:03.999501: I tensorflow/stream_executor/cuda/cuda_gpu_executor.cc:975] successful NUMA node read from SysFS had negative value (-1), but there must be at least one NUMA node, so returning NUMA node zero\n",
      "2022-07-21 11:39:03.999611: I tensorflow/stream_executor/cuda/cuda_gpu_executor.cc:975] successful NUMA node read from SysFS had negative value (-1), but there must be at least one NUMA node, so returning NUMA node zero\n",
      "2022-07-21 11:39:03.999703: I tensorflow/stream_executor/cuda/cuda_gpu_executor.cc:975] successful NUMA node read from SysFS had negative value (-1), but there must be at least one NUMA node, so returning NUMA node zero\n",
      "2022-07-21 11:39:04.430007: I tensorflow/stream_executor/cuda/cuda_gpu_executor.cc:975] successful NUMA node read from SysFS had negative value (-1), but there must be at least one NUMA node, so returning NUMA node zero\n",
      "2022-07-21 11:39:04.430172: I tensorflow/stream_executor/cuda/cuda_gpu_executor.cc:975] successful NUMA node read from SysFS had negative value (-1), but there must be at least one NUMA node, so returning NUMA node zero\n",
      "2022-07-21 11:39:04.430269: I tensorflow/stream_executor/cuda/cuda_gpu_executor.cc:975] successful NUMA node read from SysFS had negative value (-1), but there must be at least one NUMA node, so returning NUMA node zero\n",
      "2022-07-21 11:39:04.430366: I tensorflow/core/common_runtime/gpu/gpu_device.cc:1532] Created device /job:localhost/replica:0/task:0/device:GPU:0 with 5592 MB memory:  -> device: 0, name: NVIDIA GeForce RTX 3070 Laptop GPU, pci bus id: 0000:01:00.0, compute capability: 8.6\n"
     ]
    }
   ],
   "source": [
    "# create datasets\n",
    "\n",
    "data_dir_bin = \"/home/titou/Documents/git/flower_image_class/data/flower_photos_binary/\"\n",
    "data_dir_bin = pathlib.Path(data_dir_bin)\n",
    "\n",
    "\n",
    "# parameters\n",
    "batch_size = 32\n",
    "img_height = 180\n",
    "img_width = 180\n",
    "\n",
    "train_ds_bin = tf.keras.utils.image_dataset_from_directory(\n",
    "    data_dir_bin, \n",
    "    validation_split = 0.2,\n",
    "    subset = \"training\",\n",
    "    seed = 123,\n",
    "    image_size = (img_height, img_width),\n",
    "    batch_size = batch_size\n",
    ")\n",
    "\n",
    "validation_ds_bin = tf.keras.utils.image_dataset_from_directory(\n",
    "    data_dir_bin, \n",
    "    validation_split = 0.2,\n",
    "    subset = \"validation\", \n",
    "    seed = 123, \n",
    "    image_size = (img_height, img_width),\n",
    "    batch_size = batch_size\n",
    ")\n",
    "\n",
    "class_names_bin = train_ds_bin.class_names\n",
    "num_classes_bin = len(class_names_bin)\n",
    "print(class_names_bin)\n",
    "\n",
    "#Preformance improvement for the IO part of the training\n",
    "\n",
    "AUTOTUNE = tf.data.AUTOTUNE\n",
    "\n",
    "train_ds_bin = train_ds_bin.cache().shuffle(1000, seed=123).prefetch(buffer_size=AUTOTUNE)\n",
    "validation_ds_bin = validation_ds_bin.cache().prefetch(buffer_size=AUTOTUNE)\n"
   ]
  },
  {
   "cell_type": "markdown",
   "metadata": {},
   "source": [
    "## Fine tune Resnet for binary classification"
   ]
  },
  {
   "cell_type": "code",
   "execution_count": 3,
   "metadata": {},
   "outputs": [
    {
     "name": "stdout",
     "output_type": "stream",
     "text": [
      "WARNING:tensorflow:No training configuration found in the save file, so the model was *not* compiled. Compile it manually.\n"
     ]
    }
   ],
   "source": [
    "resnet50 = tf.keras.models.load_model('../data/pretrained_models/resnet50_nopooling.h5')\n",
    "resnet50.trainable=False"
   ]
  },
  {
   "cell_type": "code",
   "execution_count": 8,
   "metadata": {},
   "outputs": [],
   "source": [
    "# Create the new model\n",
    "\n",
    "def exp_decay(epoch, lr):\n",
    "  if epoch < 10:\n",
    "    return lr\n",
    "  else:\n",
    "    return lr * tf.math.exp(-0.1)\n",
    "    \n",
    "\n",
    "def create_resnet(num_classes):\n",
    "\n",
    "    model = Sequential([\n",
    "\n",
    "        layers.Resizing(img_height, img_width),\n",
    "        layers.Rescaling(1./255),\n",
    "        # Data augmentation\n",
    "        #layers.RandomFlip(\"horizontal\", seed=123),\n",
    "        #layers.RandomRotation(0.05, seed=123),\n",
    "        #layers.GaussianNoise(0.1, seed=123),\n",
    "\n",
    "        resnet50,\n",
    "        layers.MaxPool2D(),\n",
    "        layers.Flatten(),\n",
    "        layers.Dropout(0.2, seed=123),\n",
    "        layers.Dense(128, activation='relu'),\n",
    "        layers.Dense(num_classes)\n",
    "    ])\n",
    "\n",
    "\n",
    "    opt=tf.keras.optimizers.Adam(learning_rate=1e-3)\n",
    "\n",
    "    model.compile(\n",
    "        optimizer=opt,\n",
    "        loss=tf.keras.losses.SparseCategoricalCrossentropy(from_logits=True),\n",
    "        metrics=['accuracy']\n",
    "    )\n",
    "\n",
    "    return model\n",
    "\n",
    "    \n",
    "def train_lrscheduler(model, epochs, train_data, val_data, scheduler):\n",
    "    callback = tf.keras.callbacks.LearningRateScheduler(scheduler)\n",
    "    history = model.fit(train_data, validation_data = val_data, epochs = epochs, callbacks=[callback])\n",
    "    return history\n",
    "\n",
    "\n",
    "def plot_acc_loss(history, epochs):\n",
    "\n",
    "    epochs_range = range(epochs)\n",
    "    acc = history.history['accuracy']\n",
    "    val_acc = history.history['val_accuracy']\n",
    "\n",
    "    loss = history.history['loss']\n",
    "    val_loss = history.history['val_loss']\n",
    "\n",
    "    plt.figure(figsize=(12, 6))\n",
    "\n",
    "    plt.subplot(1, 2, 1)\n",
    "    plt.plot(epochs_range, acc, label = 'Training Accuracy')\n",
    "    plt.plot(epochs_range, val_acc, label = 'Validation accuracy')\n",
    "    plt.legend()\n",
    "    \n",
    "    plt.subplot(1, 2, 2)\n",
    "    plt.plot(epochs_range, loss, label = 'Training Loss')\n",
    "    plt.plot(epochs_range, val_loss, label = 'Validation Loss')\n",
    "    plt.legend()\n",
    "\n",
    "    plt.show()\n",
    "  "
   ]
  },
  {
   "cell_type": "code",
   "execution_count": 9,
   "metadata": {},
   "outputs": [
    {
     "name": "stdout",
     "output_type": "stream",
     "text": [
      "Epoch 1/10\n",
      "32/32 [==============================] - 4s 66ms/step - loss: 1.1164 - accuracy: 0.9157 - val_loss: 0.8447 - val_accuracy: 0.9173 - lr: 0.0010\n",
      "Epoch 2/10\n",
      "32/32 [==============================] - 2s 52ms/step - loss: 0.3101 - accuracy: 0.9588 - val_loss: 0.5063 - val_accuracy: 0.9488 - lr: 0.0010\n",
      "Epoch 3/10\n",
      "32/32 [==============================] - 2s 52ms/step - loss: 0.0465 - accuracy: 0.9882 - val_loss: 0.4804 - val_accuracy: 0.9331 - lr: 0.0010\n",
      "Epoch 4/10\n",
      "32/32 [==============================] - 2s 52ms/step - loss: 0.0179 - accuracy: 0.9961 - val_loss: 0.6863 - val_accuracy: 0.9409 - lr: 0.0010\n",
      "Epoch 5/10\n",
      "32/32 [==============================] - 2s 53ms/step - loss: 0.0055 - accuracy: 0.9971 - val_loss: 0.6527 - val_accuracy: 0.9449 - lr: 0.0010\n",
      "Epoch 6/10\n",
      "32/32 [==============================] - 2s 52ms/step - loss: 0.0278 - accuracy: 0.9931 - val_loss: 0.8613 - val_accuracy: 0.9134 - lr: 0.0010\n",
      "Epoch 7/10\n",
      "32/32 [==============================] - 2s 52ms/step - loss: 0.0393 - accuracy: 0.9902 - val_loss: 0.5535 - val_accuracy: 0.9528 - lr: 0.0010\n",
      "Epoch 8/10\n",
      "32/32 [==============================] - 2s 52ms/step - loss: 0.0027 - accuracy: 0.9980 - val_loss: 0.4615 - val_accuracy: 0.9528 - lr: 0.0010\n",
      "Epoch 9/10\n",
      "32/32 [==============================] - 2s 52ms/step - loss: 1.5959e-04 - accuracy: 1.0000 - val_loss: 0.4639 - val_accuracy: 0.9567 - lr: 0.0010\n",
      "Epoch 10/10\n",
      "32/32 [==============================] - 2s 52ms/step - loss: 1.3926e-04 - accuracy: 1.0000 - val_loss: 0.4486 - val_accuracy: 0.9528 - lr: 0.0010\n"
     ]
    },
    {
     "data": {
      "image/png": "[encoded data removed]",
      "text/plain": [
       "<Figure size 864x432 with 2 Axes>"
      ]
     },
     "metadata": {
      "needs_background": "light"
     },
     "output_type": "display_data"
    }
   ],
   "source": [
    "resnet = create_resnet(num_classes_bin)\n",
    "epochs = 10\n",
    "resnet_history = train_lrscheduler(resnet, epochs, train_ds_bin, validation_ds_bin, exp_decay)\n",
    "plot_acc_loss(resnet_history, epochs)\n",
    "\n"
   ]
  },
  {
   "cell_type": "code",
   "execution_count": null,
   "metadata": {},
   "outputs": [],
   "source": []
  }
 ],
 "metadata": {
  "interpreter": {
   "hash": "7736d602cf46993e5c2a27a57ee1b08f7d6a9a00ed0d431426ac4d66f758681b"
  },
  "kernelspec": {
   "display_name": "Python 3.9.12 ('flower')",
   "language": "python",
   "name": "python3"
  },
  "language_info": {
   "codemirror_mode": {
    "name": "ipython",
    "version": 3
   },
   "file_extension": ".py",
   "mimetype": "text/x-python",
   "name": "python",
   "nbconvert_exporter": "python",
   "pygments_lexer": "ipython3",
   "version": "3.9.12"
  },
  "orig_nbformat": 4
 },
 "nbformat": 4,
 "nbformat_minor": 2
}

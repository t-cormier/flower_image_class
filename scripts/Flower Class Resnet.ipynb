{
 "cells": [
  {
   "cell_type": "markdown",
   "metadata": {},
   "source": [
    "## Libraries"
   ]
  },
  {
   "cell_type": "code",
   "execution_count": 1,
   "metadata": {},
   "outputs": [],
   "source": [
    "import matplotlib.pyplot as plt\n",
    "import numpy as np\n",
    "import os\n",
    "import PIL\n",
    "import tensorflow as tf\n",
    "import pathlib\n",
    "\n",
    "# Tensorflow libraries\n",
    "from tensorflow import keras\n",
    "from tensorflow.keras import layers\n",
    "from tensorflow.keras.models import Sequential\n",
    "\n",
    "#matplotlib style\n",
    "plt.rcParams['axes.spines.right'] = False\n",
    "plt.rcParams['axes.spines.top'] = False\n",
    "plt.rcParams['legend.frameon'] = False\n",
    "\n",
    "# project package\n",
    "from src.plot_functions import plot_acc_loss\n",
    "from src.training_functions import exp_decay, train_lrscheduler\n",
    "from src.init_data import create_train_val_data_from_directory\n"
   ]
  },
  {
   "cell_type": "code",
   "execution_count": 2,
   "metadata": {},
   "outputs": [
    {
     "name": "stdout",
     "output_type": "stream",
     "text": [
      "Found 3670 files belonging to 5 classes.\n",
      "Using 2936 files for training.\n"
     ]
    },
    {
     "name": "stderr",
     "output_type": "stream",
     "text": [
      "2022-07-21 13:13:11.357947: I tensorflow/stream_executor/cuda/cuda_gpu_executor.cc:975] successful NUMA node read from SysFS had negative value (-1), but there must be at least one NUMA node, so returning NUMA node zero\n",
      "2022-07-21 13:13:11.364400: I tensorflow/stream_executor/cuda/cuda_gpu_executor.cc:975] successful NUMA node read from SysFS had negative value (-1), but there must be at least one NUMA node, so returning NUMA node zero\n",
      "2022-07-21 13:13:11.364624: I tensorflow/stream_executor/cuda/cuda_gpu_executor.cc:975] successful NUMA node read from SysFS had negative value (-1), but there must be at least one NUMA node, so returning NUMA node zero\n",
      "2022-07-21 13:13:11.365738: I tensorflow/core/platform/cpu_feature_guard.cc:193] This TensorFlow binary is optimized with oneAPI Deep Neural Network Library (oneDNN) to use the following CPU instructions in performance-critical operations:  AVX2 FMA\n",
      "To enable them in other operations, rebuild TensorFlow with the appropriate compiler flags.\n",
      "2022-07-21 13:13:11.366343: I tensorflow/stream_executor/cuda/cuda_gpu_executor.cc:975] successful NUMA node read from SysFS had negative value (-1), but there must be at least one NUMA node, so returning NUMA node zero\n",
      "2022-07-21 13:13:11.366474: I tensorflow/stream_executor/cuda/cuda_gpu_executor.cc:975] successful NUMA node read from SysFS had negative value (-1), but there must be at least one NUMA node, so returning NUMA node zero\n",
      "2022-07-21 13:13:11.366583: I tensorflow/stream_executor/cuda/cuda_gpu_executor.cc:975] successful NUMA node read from SysFS had negative value (-1), but there must be at least one NUMA node, so returning NUMA node zero\n",
      "2022-07-21 13:13:11.759466: I tensorflow/stream_executor/cuda/cuda_gpu_executor.cc:975] successful NUMA node read from SysFS had negative value (-1), but there must be at least one NUMA node, so returning NUMA node zero\n",
      "2022-07-21 13:13:11.759613: I tensorflow/stream_executor/cuda/cuda_gpu_executor.cc:975] successful NUMA node read from SysFS had negative value (-1), but there must be at least one NUMA node, so returning NUMA node zero\n",
      "2022-07-21 13:13:11.759713: I tensorflow/stream_executor/cuda/cuda_gpu_executor.cc:975] successful NUMA node read from"
     ]
    },
    {
     "name": "stdout",
     "output_type": "stream",
     "text": [
      "Found 3670 files belonging to 5 classes.\n",
      "Using 734 files for validation.\n",
      "['daisy', 'dandelion', 'roses', 'sunflowers', 'tulips']\n"
     ]
    },
    {
     "name": "stderr",
     "output_type": "stream",
     "text": [
      " SysFS had negative value (-1), but there must be at least one NUMA node, so returning NUMA node zero\n",
      "2022-07-21 13:13:11.759802: I tensorflow/core/common_runtime/gpu/gpu_device.cc:1532] Created device /job:localhost/replica:0/task:0/device:GPU:0 with 5596 MB memory:  -> device: 0, name: NVIDIA GeForce RTX 3070 Laptop GPU, pci bus id: 0000:01:00.0, compute capability: 8.6\n"
     ]
    }
   ],
   "source": [
    "# Create dataset\n",
    "data_dir = \"/home/titou/Documents/git/flower_image_class/data/flower_photos/\"\n",
    "data_dir = pathlib.Path(data_dir)\n",
    "\n",
    "img_height = 180\n",
    "img_width = 180\n",
    "batch_size = 32\n",
    "\n",
    "train_ds, validation_ds = create_train_val_data_from_directory(data_dir)\n",
    "\n",
    "class_names = train_ds.class_names\n",
    "num_classes = len(class_names)\n",
    "print(class_names)"
   ]
  },
  {
   "cell_type": "code",
   "execution_count": 3,
   "metadata": {},
   "outputs": [
    {
     "name": "stdout",
     "output_type": "stream",
     "text": [
      "WARNING:tensorflow:No training configuration found in the save file, so the model was *not* compiled. Compile it manually.\n"
     ]
    }
   ],
   "source": [
    "resnet50 = tf.keras.models.load_model('../data/pretrained_models/resnet50_nopooling.h5')\n",
    "resnet50.trainable=False"
   ]
  },
  {
   "cell_type": "code",
   "execution_count": 4,
   "metadata": {},
   "outputs": [],
   "source": [
    "# Create the new model\n",
    "\n",
    "    \n",
    "def create_resnet(num_classes):\n",
    "\n",
    "    model = Sequential([\n",
    "\n",
    "        layers.Resizing(img_height, img_width),\n",
    "        layers.Rescaling(1./255),\n",
    "\n",
    "        resnet50,\n",
    "        layers.MaxPool2D(),\n",
    "        layers.Flatten(),\n",
    "        layers.Dropout(0.2, seed=123),\n",
    "        layers.Dense(128, activation='relu'),\n",
    "        layers.Dense(num_classes)\n",
    "    ])\n",
    "\n",
    "\n",
    "    opt=tf.keras.optimizers.Adam(learning_rate=1e-3)\n",
    "\n",
    "    model.compile(\n",
    "        optimizer=opt,\n",
    "        loss=tf.keras.losses.SparseCategoricalCrossentropy(from_logits=True),\n",
    "        metrics=['accuracy']\n",
    "    )\n",
    "\n",
    "    return model\n",
    "\n",
    "  "
   ]
  },
  {
   "cell_type": "code",
   "execution_count": 5,
   "metadata": {},
   "outputs": [
    {
     "name": "stdout",
     "output_type": "stream",
     "text": [
      "Epoch 1/10\n"
     ]
    },
    {
     "name": "stderr",
     "output_type": "stream",
     "text": [
      "2022-07-21 13:13:18.562852: I tensorflow/stream_executor/cuda/cuda_dnn.cc:384] Loaded cuDNN version 8100\n",
      "2022-07-21 13:13:19.090443: I tensorflow/core/platform/default/subprocess.cc:304] Start cannot spawn child process: No such file or directory\n",
      "2022-07-21 13:13:19.090849: I tensorflow/core/platform/default/subprocess.cc:304] Start cannot spawn child process: No such file or directory\n",
      "2022-07-21 13:13:19.090875: W tensorflow/stream_executor/gpu/asm_compiler.cc:80] Couldn't get ptxas version string: INTERNAL: Couldn't invoke ptxas --version\n",
      "2022-07-21 13:13:19.091224: I tensorflow/core/platform/default/subprocess.cc:304] Start cannot spawn child process: No such file or directory\n",
      "2022-07-21 13:13:19.091248: W tensorflow/stream_executor/gpu/redzone_allocator.cc:314] INTERNAL: Failed to launch ptxas\n",
      "Relying on driver to perform ptx compilation. \n",
      "Modify $PATH to customize ptxas location.\n",
      "This message will be only logged once.\n"
     ]
    },
    {
     "name": "stdout",
     "output_type": "stream",
     "text": [
      " 4/92 [>.............................] - ETA: 4s - loss: 8.9721 - accuracy: 0.3750"
     ]
    },
    {
     "name": "stderr",
     "output_type": "stream",
     "text": [
      "2022-07-21 13:13:20.200708: I tensorflow/stream_executor/cuda/cuda_blas.cc:1786] TensorFloat-32 will be used for the matrix multiplication. This will only be logged once.\n"
     ]
    },
    {
     "name": "stdout",
     "output_type": "stream",
     "text": [
      "92/92 [==============================] - 11s 81ms/step - loss: 1.3601 - accuracy: 0.7466 - val_loss: 0.5412 - val_accuracy: 0.8134 - lr: 0.0010\n",
      "Epoch 2/10\n",
      "92/92 [==============================] - 6s 63ms/step - loss: 0.2191 - accuracy: 0.9295 - val_loss: 0.4540 - val_accuracy: 0.8515 - lr: 0.0010\n",
      "Epoch 3/10\n",
      "92/92 [==============================] - 6s 64ms/step - loss: 0.0904 - accuracy: 0.9731 - val_loss: 0.4786 - val_accuracy: 0.8583 - lr: 0.0010\n",
      "Epoch 4/10\n",
      "92/92 [==============================] - 6s 65ms/step - loss: 0.0447 - accuracy: 0.9874 - val_loss: 0.4868 - val_accuracy: 0.8515 - lr: 0.0010\n",
      "Epoch 5/10\n",
      "92/92 [==============================] - 6s 64ms/step - loss: 0.0163 - accuracy: 0.9976 - val_loss: 0.5228 - val_accuracy: 0.8597 - lr: 0.0010\n",
      "Epoch 6/10\n",
      "92/92 [==============================] - 6s 63ms/step - loss: 0.0095 - accuracy: 0.9997 - val_loss: 0.5168 - val_accuracy: 0.8597 - lr: 0.0010\n",
      "Epoch 7/10\n",
      "92/92 [==============================] - 6s 63ms/step - loss: 0.0061 - accuracy: 0.9993 - val_loss: 0.5380 - val_accuracy: 0.8624 - lr: 0.0010\n",
      "Epoch 8/10\n",
      "92/92 [==============================] - 6s 64ms/step - loss: 0.0045 - accuracy: 0.9997 - val_loss: 0.5402 - val_accuracy: 0.8678 - lr: 0.0010\n",
      "Epoch 9/10\n",
      "92/92 [==============================] - 6s 64ms/step - loss: 0.0032 - accuracy: 0.9997 - val_loss: 0.5535 - val_accuracy: 0.8747 - lr: 0.0010\n",
      "Epoch 10/10\n",
      "92/92 [==============================] - 6s 64ms/step - loss: 0.0027 - accuracy: 0.9997 - val_loss: 0.5445 - val_accuracy: 0.8706 - lr: 0.0010\n"
     ]
    },
    {
     "data": {
      "image/png": "[encoded data removed]",
      "text/plain": [
       "<Figure size 864x432 with 2 Axes>"
      ]
     },
     "metadata": {
      "needs_background": "light"
     },
     "output_type": "display_data"
    }
   ],
   "source": [
    "resnet = create_resnet(num_classes)\n",
    "epochs = 10\n",
    "resnet_history = train_lrscheduler(resnet, epochs, train_ds, validation_ds, exp_decay)\n",
    "plot_acc_loss(resnet_history, epochs)\n",
    "\n"
   ]
  },
  {
   "cell_type": "code",
   "execution_count": null,
   "metadata": {},
   "outputs": [],
   "source": []
  }
 ],
 "metadata": {
  "interpreter": {
   "hash": "7736d602cf46993e5c2a27a57ee1b08f7d6a9a00ed0d431426ac4d66f758681b"
  },
  "kernelspec": {
   "display_name": "Python 3.9.12 ('flower')",
   "language": "python",
   "name": "python3"
  },
  "language_info": {
   "codemirror_mode": {
    "name": "ipython",
    "version": 3
   },
   "file_extension": ".py",
   "mimetype": "text/x-python",
   "name": "python",
   "nbconvert_exporter": "python",
   "pygments_lexer": "ipython3",
   "version": "3.9.12"
  },
  "orig_nbformat": 4
 },
 "nbformat": 4,
 "nbformat_minor": 2
}
